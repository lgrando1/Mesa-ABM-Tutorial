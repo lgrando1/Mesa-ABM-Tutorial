{
 "cells": [
  {
   "cell_type": "markdown",
   "metadata": {
    "colab_type": "text",
    "id": "view-in-github"
   },
   "source": [
    "<a href=\"https://colab.research.google.com/github/SFIComplexityExplorer/Mesa-ABM-Tutorial/blob/main/Session_3_Start_Colab_and_Initiate_Model.ipynb\" target=\"_parent\"><img src=\"https://colab.research.google.com/assets/colab-badge.svg\" alt=\"Open In Colab\"/></a>"
   ]
  },
  {
   "cell_type": "markdown",
   "metadata": {
    "id": "XAnII-29m3r2"
   },
   "source": [
    "# Import Dependencies"
   ]
  },
  {
   "cell_type": "code",
   "execution_count": 1,
   "metadata": {
    "colab": {
     "base_uri": "https://localhost:8080/"
    },
    "id": "cCa7pEqXdY82",
    "outputId": "be57fead-256d-48fc-d878-bd3ee8d3bff2"
   },
   "outputs": [
    {
     "name": "stdout",
     "output_type": "stream",
     "text": [
      "Defaulting to user installation because normal site-packages is not writeable\n",
      "Requirement already satisfied: mesa in /home/leonardogrando/.local/lib/python3.8/site-packages (1.2.1)\n",
      "Requirement already satisfied: click in /home/leonardogrando/.local/lib/python3.8/site-packages (from mesa) (8.1.3)\n",
      "Requirement already satisfied: cookiecutter in /home/leonardogrando/.local/lib/python3.8/site-packages (from mesa) (2.1.1)\n",
      "Requirement already satisfied: networkx in /home/leonardogrando/.local/lib/python3.8/site-packages (from mesa) (3.1)\n",
      "Requirement already satisfied: numpy in /home/leonardogrando/.local/lib/python3.8/site-packages (from mesa) (1.24.3)\n",
      "Requirement already satisfied: pandas in /home/leonardogrando/.local/lib/python3.8/site-packages (from mesa) (2.0.2)\n",
      "Requirement already satisfied: tornado in /home/leonardogrando/.local/lib/python3.8/site-packages (from mesa) (6.3.2)\n",
      "Requirement already satisfied: tqdm in /home/leonardogrando/.local/lib/python3.8/site-packages (from mesa) (4.65.0)\n",
      "Requirement already satisfied: binaryornot>=0.4.4 in /home/leonardogrando/.local/lib/python3.8/site-packages (from cookiecutter->mesa) (0.4.4)\n",
      "Requirement already satisfied: Jinja2<4.0.0,>=2.7 in /home/leonardogrando/.local/lib/python3.8/site-packages (from cookiecutter->mesa) (3.1.2)\n",
      "Requirement already satisfied: pyyaml>=5.3.1 in /usr/lib/python3/dist-packages (from cookiecutter->mesa) (5.3.1)\n",
      "Requirement already satisfied: jinja2-time>=0.2.0 in /home/leonardogrando/.local/lib/python3.8/site-packages (from cookiecutter->mesa) (0.2.0)\n",
      "Requirement already satisfied: python-slugify>=4.0.0 in /home/leonardogrando/.local/lib/python3.8/site-packages (from cookiecutter->mesa) (8.0.1)\n",
      "Requirement already satisfied: requests>=2.23.0 in /home/leonardogrando/.local/lib/python3.8/site-packages (from cookiecutter->mesa) (2.31.0)\n",
      "Requirement already satisfied: python-dateutil>=2.8.2 in /home/leonardogrando/.local/lib/python3.8/site-packages (from pandas->mesa) (2.8.2)\n",
      "Requirement already satisfied: pytz>=2020.1 in /home/leonardogrando/.local/lib/python3.8/site-packages (from pandas->mesa) (2023.3)\n",
      "Requirement already satisfied: tzdata>=2022.1 in /home/leonardogrando/.local/lib/python3.8/site-packages (from pandas->mesa) (2023.3)\n",
      "Requirement already satisfied: chardet>=3.0.2 in /usr/lib/python3/dist-packages (from binaryornot>=0.4.4->cookiecutter->mesa) (3.0.4)\n",
      "Requirement already satisfied: MarkupSafe>=2.0 in /home/leonardogrando/.local/lib/python3.8/site-packages (from Jinja2<4.0.0,>=2.7->cookiecutter->mesa) (2.1.3)\n",
      "Requirement already satisfied: arrow in /home/leonardogrando/.local/lib/python3.8/site-packages (from jinja2-time>=0.2.0->cookiecutter->mesa) (1.2.3)\n",
      "Requirement already satisfied: six>=1.5 in /usr/lib/python3/dist-packages (from python-dateutil>=2.8.2->pandas->mesa) (1.14.0)\n",
      "Requirement already satisfied: text-unidecode>=1.3 in /home/leonardogrando/.local/lib/python3.8/site-packages (from python-slugify>=4.0.0->cookiecutter->mesa) (1.3)\n",
      "Requirement already satisfied: charset-normalizer<4,>=2 in /home/leonardogrando/.local/lib/python3.8/site-packages (from requests>=2.23.0->cookiecutter->mesa) (3.1.0)\n",
      "Requirement already satisfied: idna<4,>=2.5 in /usr/lib/python3/dist-packages (from requests>=2.23.0->cookiecutter->mesa) (2.8)\n",
      "Requirement already satisfied: urllib3<3,>=1.21.1 in /usr/lib/python3/dist-packages (from requests>=2.23.0->cookiecutter->mesa) (1.25.8)\n",
      "Requirement already satisfied: certifi>=2017.4.17 in /usr/lib/python3/dist-packages (from requests>=2.23.0->cookiecutter->mesa) (2019.11.28)\n",
      "\u001b[33mDEPRECATION: python-apt 2.1.2pop0-1587756471-20.04-cd2988e has a non-standard version number. pip 24.0 will enforce this behaviour change. A possible replacement is to upgrade to a newer version of python-apt or contact the author to suggest that they release a version with a conforming version number. Discussion can be found at https://github.com/pypa/pip/issues/12063\u001b[0m\u001b[33m\n",
      "\u001b[0m"
     ]
    }
   ],
   "source": [
    "!pip install mesa"
   ]
  },
  {
   "cell_type": "code",
   "execution_count": 2,
   "metadata": {
    "id": "ikSl2Mz0m252"
   },
   "outputs": [],
   "source": [
    "import mesa"
   ]
  },
  {
   "cell_type": "markdown",
   "metadata": {
    "id": "BkX5GqjSnAu0"
   },
   "source": [
    "# Resource Classes"
   ]
  },
  {
   "cell_type": "code",
   "execution_count": 3,
   "metadata": {
    "id": "o1EOk5KMnC55"
   },
   "outputs": [],
   "source": [
    "class Sugar(mesa.Agent):\n",
    "  \"\"\"\n",
    "  Sugar: \n",
    "  - contains an amount of sugar\n",
    "  - grows 1 amount of sugar at each turn \n",
    "  \"\"\"\n",
    "\n",
    "  def __init__(self): \n",
    "    print(\"I am Sugar\")"
   ]
  },
  {
   "cell_type": "code",
   "execution_count": 4,
   "metadata": {
    "id": "-oJ35Mx7nXmK"
   },
   "outputs": [],
   "source": [
    "class Spice(mesa.Agent):\n",
    "  \"\"\"\n",
    "  Spice: \n",
    "  - contains an amount of spice\n",
    "  - grows 1 amount of spice at each turn\n",
    "  \"\"\"\n",
    "\n",
    "  def __init__(self):\n",
    "    print(\"I am Spice\")\n",
    "  "
   ]
  },
  {
   "cell_type": "markdown",
   "metadata": {
    "id": "XYcwNrHqnrPt"
   },
   "source": [
    "# Trader Agent"
   ]
  },
  {
   "cell_type": "code",
   "execution_count": 5,
   "metadata": {
    "id": "t51BNfwUnt53"
   },
   "outputs": [],
   "source": [
    "class Trader(mesa.Agent): \n",
    "  \"\"\"\n",
    "  Trader: \n",
    "  - has a metabolism of sugar and spice\n",
    "  - harvest and trade sugar and spice to survive\n",
    "  \"\"\"\n",
    "\n",
    "\n",
    "  def __init__(self):\n",
    "    print(\"I am Trader\")\n",
    " \n"
   ]
  },
  {
   "cell_type": "markdown",
   "metadata": {
    "id": "SRrU2ABBoF0i"
   },
   "source": [
    "# Model Class"
   ]
  },
  {
   "cell_type": "code",
   "execution_count": 6,
   "metadata": {
    "id": "7DTonjahn2BT"
   },
   "outputs": [],
   "source": [
    "class SugarscapeG1mt(mesa.Model):\n",
    "  \"\"\"\n",
    "  Manager class to run Sugarscape with Traders\n",
    "  \"\"\"\n",
    "  \n",
    "  \n",
    "  def __init__(self, width=50,height=50):\n",
    "    self.spice = Spice()\n",
    "    self.sugar = Sugar()\n",
    "    self.trader = Trader()\n"
   ]
  },
  {
   "cell_type": "markdown",
   "metadata": {
    "id": "_KHKfeD9oiYo"
   },
   "source": [
    "# Run Sugarscape"
   ]
  },
  {
   "cell_type": "code",
   "execution_count": 7,
   "metadata": {
    "colab": {
     "base_uri": "https://localhost:8080/"
    },
    "id": "at455urSol7b",
    "outputId": "bb247582-2d50-4630-fe0d-9787453768b3"
   },
   "outputs": [
    {
     "name": "stdout",
     "output_type": "stream",
     "text": [
      "I am Spice\n",
      "I am Sugar\n",
      "I am Trader\n"
     ]
    }
   ],
   "source": [
    "model = SugarscapeG1mt()\n",
    "\n"
   ]
  },
  {
   "cell_type": "code",
   "execution_count": null,
   "metadata": {
    "id": "vemquyVptT3Z"
   },
   "outputs": [],
   "source": []
  }
 ],
 "metadata": {
  "colab": {
   "include_colab_link": true,
   "provenance": []
  },
  "kernelspec": {
   "display_name": "Python 3 (ipykernel)",
   "language": "python",
   "name": "python3"
  },
  "language_info": {
   "codemirror_mode": {
    "name": "ipython",
    "version": 3
   },
   "file_extension": ".py",
   "mimetype": "text/x-python",
   "name": "python",
   "nbconvert_exporter": "python",
   "pygments_lexer": "ipython3",
   "version": "3.8.10"
  }
 },
 "nbformat": 4,
 "nbformat_minor": 1
}
